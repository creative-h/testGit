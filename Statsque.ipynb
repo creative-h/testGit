{
 "cells": [
  {
   "attachments": {},
   "cell_type": "markdown",
   "metadata": {},
   "source": [
    "### This excersice tests your understanding on statistical testing. \n",
    "### Follow the instructions for each cell and code accordingly in python\n",
    "### Create extra cells or notebook for coding if necessary\n",
    "### pandas, numpy and scipy packages are preinstalled and these packages should to sufficient to solve this excercise\n",
    "### To run the code in each cell press shift+enter\n",
    "### The significance level for all the hypothesis testing question is 0.05"
   ]
  },
  {
   "attachments": {},
   "cell_type": "markdown",
   "metadata": {},
   "source": [
    "### The given problem is designed to test your understanding on statistical testing.\n",
    "*Follow the below instructions before you code:*\n",
    "+ Read the instructions of each task and code accordingly.\n",
    "+ Create extra cells or notebook for coding if necessary.\n",
    "+ To run the code of each cell, press `Shift + Enter`.\n",
    "+ The significance level for all the hypothesis testing question is 0.05."
   ]
  },
  {
   "cell_type": "code",
   "execution_count": null,
   "metadata": {},
   "outputs": [],
   "source": [
    "import pandas as pd\n",
    "from scipy import stats\n",
    "import numpy as np"
   ]
  },
  {
   "cell_type": "markdown",
   "metadata": {},
   "source": [
    "### Run below cell to download the datasets"
   ]
  },
  {
   "cell_type": "code",
   "execution_count": null,
   "metadata": {},
   "outputs": [],
   "source": [
    "!wget https://hr-projects-assets-prod.s3.amazonaws.com/lrpqaeb14h/e186636d099c5d032901dfaf5db68852/matches.csv\n",
    "!wget https://hr-projects-assets-prod.s3.amazonaws.com/lrpqaeb14h/6f3085efd6250aa3c886059677871a29/deliveries.csv"
   ]
  },
  {
   "cell_type": "markdown",
   "metadata": {},
   "source": [
    "Read the dataset provided in the files matches.csv and deliveries.csv "
   ]
  },
  {
   "cell_type": "code",
   "execution_count": null,
   "metadata": {},
   "outputs": [],
   "source": [
    "# Read the datasets and assign it to respective variables"
   ]
  },
  {
   "attachments": {},
   "cell_type": "markdown",
   "metadata": {},
   "source": [
    "### Task 1\n",
    "**In IPL, many players have registered their mark by giving amazing performances consisitently. From the given datasets:**\n",
    "+ Get Suresh Raina's individual scores from each match from the seasons 2008, 2010, 2011, 2012, 2013, 2015 and 2019 respectively.\n",
    "+ Now get Suresh Raina's individual scores from each match in home city(Chennai) and individual scores from non-native cities(i.e other than Chennai).\n",
    "+ Now, create a random sample of 20 data with seed value of 2.\n",
    "+ From the sample dataset perform t-test (paired) on individual runs scored by Raina on home city and in non-native cities \n",
    "+ Assign the p-value to variable `p_val` in the below cell (round the values to two decimal places).\n"
   ]
  },
  {
   "cell_type": "code",
   "execution_count": null,
   "metadata": {},
   "outputs": [],
   "source": [
    "\n",
    "\n",
    "\n",
    "\n",
    "\n",
    "###Assign the value here\n",
    "p_val = "
   ]
  },
  {
   "attachments": {},
   "cell_type": "markdown",
   "metadata": {},
   "source": [
    "#### From the P-value and significance level, the individual scores from Raina scored in home city and in non-home cities are statistically different ?\n",
    "#### If your answer is yes assign boolean value True to variable *answer* in the below cell False otherwise"
   ]
  },
  {
   "cell_type": "code",
   "execution_count": null,
   "metadata": {},
   "outputs": [],
   "source": [
    "###Assign your answer here\n",
    "answer = "
   ]
  },
  {
   "attachments": {},
   "cell_type": "markdown",
   "metadata": {},
   "source": [
    "### Task 2\n",
    "**In IPL, strike rate is important; the batsmen having higher strike rate helps team to get more runs. From the given datasets:**\n",
    "\n",
    "+ Get Rohit Sharma's individual strike rates from each match where he played for Mumbai Indians.\n",
    "+ Now from the above data get Rohit Sharma's individual strike rates in home city (Mumbai) and individual strike rates from non-native cities (i.e other than Mumbai).\n",
    "+ Now, create a random sample of 20 data with seed value of 2.\n",
    "+ From the sample data sets perform t-test (paired) on individual runs scored by rohit on home city and in away cities \n",
    "+ Formula for calculating strike rate - (batsmen runs/ball faced)*100\n",
    "+ Assign the p-value to variable `pval1` in the below cell (round the values to two decimal places)."
   ]
  },
  {
   "cell_type": "code",
   "execution_count": null,
   "metadata": {},
   "outputs": [],
   "source": [
    "\n",
    "\n",
    "\n",
    "\n",
    "\n",
    "\n",
    "\n",
    "###Assign the value here\n",
    "pval1 = \n"
   ]
  },
  {
   "attachments": {},
   "cell_type": "markdown",
   "metadata": {},
   "source": [
    "#### From the P-value and significance level, the individual strike rates from rohit have in home city and in non-home cities are statistically different ?\n",
    "#### If your answer is yes assign boolean value True to variable *answer1* in the below cell False otherwise"
   ]
  },
  {
   "cell_type": "code",
   "execution_count": null,
   "metadata": {},
   "outputs": [],
   "source": [
    "answer1 = "
   ]
  },
  {
   "attachments": {},
   "cell_type": "markdown",
   "metadata": {},
   "source": [
    "### Task 3\n",
    "**In IPL, scoring six boosts the confidence of the batsman which pushes him to score more runs. From the given datasets:**\n",
    "\n",
    "+ Get Virat Kohli's individual score in which he hit six for every match he played for Royal Challengers Bangalore.\n",
    "+ Now get Virat Kohli's individual sixes in home city (Bengaluru) and individual sixes from non-native cities (i.e other than Bengaluru).\n",
    "+ Now,create a random sample of 20 data with seed value of 2.\n",
    "+ From the sample dataset perform t-test (paired) on individual runs scored by kohli on home city and in away cities. \n",
    "+ Assign the p-value to variable `pval2` in the below cell (round the values to two decimal places)."
   ]
  },
  {
   "cell_type": "code",
   "execution_count": null,
   "metadata": {},
   "outputs": [],
   "source": [
    "\n",
    "\n",
    "\n",
    "\n",
    "\n",
    "\n",
    "\n",
    "\n",
    "\n",
    "\n",
    "\n",
    "###Assign the value here\n",
    "pval2 = \n"
   ]
  },
  {
   "attachments": {},
   "cell_type": "markdown",
   "metadata": {},
   "source": [
    "#### From the P-value and significance level the individual sixes from kohli have in home city and in non-home cities are statistically different ?\n",
    "#### If your answer is yes assign boolean value True to variable *answer2* in the below cell False otherwise"
   ]
  },
  {
   "cell_type": "code",
   "execution_count": null,
   "metadata": {},
   "outputs": [],
   "source": [
    "answer2 = "
   ]
  },
  {
   "attachments": {},
   "cell_type": "markdown",
   "metadata": {},
   "source": [
    "### Task 4\n",
    "In IPL, runs scored while batting first is always different from batting in second and so on. From the given dataset:    \n",
    "+ Get individual team scores of overall matches from each match by innings.\n",
    "+ From the above data select only first innings from all the matches.\n",
    "+ Now,from the above data set create a random sample of 200 data with seed value of 2\n",
    "+ Now,calculate the confidence interval range of the score having 95% confidence.\n",
    "+ Convert the minimum and maximum confidence interval into integer.\n",
    "    \n",
    "    \n",
    "    \n",
    "    "
   ]
  },
  {
   "cell_type": "code",
   "execution_count": null,
   "metadata": {},
   "outputs": [],
   "source": [
    "\n",
    "\n",
    "\n",
    "\n",
    "\n",
    "\n",
    "\n",
    "\n",
    "\n",
    "\n",
    "###Assign the values here\n",
    "\n",
    "confi_min = \n",
    "confi_max = \n",
    "\n"
   ]
  },
  {
   "attachments": {},
   "cell_type": "markdown",
   "metadata": {},
   "source": [
    "### Task 5\n",
    "In IPL, winning the toss certainly helps the team to choose either batting or bowling. From the given datasets:\n",
    "    \n",
    "+ Get the toss winner and winner of all the games from the dataset.\n",
    "+ Now, create a random sample of 200 data with seed value of 2.\n",
    "+ From the sample data set perform chi-square test on toss winner and winner of the games.\n",
    "+ Assign the p-value to variable `p`, critical value to variable `critical` and stat value to variable `stat` in the below cell (round the values to two decimal places).\n",
    "    \n",
    "    "
   ]
  },
  {
   "cell_type": "code",
   "execution_count": null,
   "metadata": {
    "scrolled": true
   },
   "outputs": [],
   "source": [
    "\n",
    "\n",
    "\n",
    "\n",
    "###Assign the values here\n",
    "p=\n",
    "critical=\n",
    "stat=\n"
   ]
  },
  {
   "attachments": {},
   "cell_type": "markdown",
   "metadata": {},
   "source": [
    "#### From the P-value and significance level the toss winner and winner of the games are statistically different ?\n",
    "#### If your answer is yes assign boolean value True to variable *answer3* in the below cell False otherwise"
   ]
  },
  {
   "cell_type": "code",
   "execution_count": null,
   "metadata": {},
   "outputs": [],
   "source": [
    "answer3 = "
   ]
  },
  {
   "attachments": {},
   "cell_type": "markdown",
   "metadata": {},
   "source": [
    "#### From the stat value and critical value of the toss winner and winner of the games are statistically different ?\n",
    "#### If your answer is yes assign boolean value True to variable *answer4* in the below cell False otherwise"
   ]
  },
  {
   "cell_type": "code",
   "execution_count": null,
   "metadata": {},
   "outputs": [],
   "source": [
    "answer4 = "
   ]
  },
  {
   "attachments": {},
   "cell_type": "markdown",
   "metadata": {},
   "source": [
    "### Task 6\n",
    "In IPL, decision taken during the toss makes impact on the match which turns course of the game. From the given dataset\n",
    "\n",
    "+ Get the toss decision and winner of all the games from the dataset.\n",
    "+ Now, create a random sample of 200 data with seed value of 2.\n",
    "+ From the sample dataset perform chi-square test on toss decision and winner of the games.\n",
    "+ Assign the p-value to variable `p1`, critical value to variable `critical1` and stat value to variable `stat1` in the below cell (round the values to two decimal places)."
   ]
  },
  {
   "cell_type": "code",
   "execution_count": null,
   "metadata": {},
   "outputs": [],
   "source": [
    "\n",
    "\n",
    "\n",
    "###Assign the value here\n",
    "p1=\n",
    "critical1=\n",
    "stat1=\n"
   ]
  },
  {
   "attachments": {},
   "cell_type": "markdown",
   "metadata": {},
   "source": [
    "#### From the P-value and significance level the toss decision and winner of the games are statistically different ?\n",
    "#### If your answer is yes assign boolean value True to variable *answer5* in the below cell False otherwise"
   ]
  },
  {
   "cell_type": "code",
   "execution_count": null,
   "metadata": {},
   "outputs": [],
   "source": [
    "answer5 = "
   ]
  },
  {
   "cell_type": "markdown",
   "metadata": {},
   "source": [
    "#### From the stat value and critical value the toss winner and winner of the games are statistically different ?\n",
    "#### If your answer is yes assign boolean value True to variable *answer6* in the below cell False otherwise"
   ]
  },
  {
   "cell_type": "code",
   "execution_count": null,
   "metadata": {},
   "outputs": [],
   "source": [
    "answer6 = "
   ]
  },
  {
   "attachments": {},
   "cell_type": "markdown",
   "metadata": {},
   "source": [
    "### Task 7\n",
    "In IPL, different teams created impact their performances. From the given dataset:\n",
    "    \n",
    "+ Get individual team scores of overall matches from each match by innings.\n",
    "+ From the above data select only team scores of teams Chennai Super Kings,Kolkata Knight Riders and Mumbai Indians of overall matches from each match by innings.\n",
    "+ From the above data select only first innings from all the matches.\n",
    "+ Now, create a random sample of 100 data with seed value of 2.\n",
    "+ From the sample data set perform one way anova test on the above teams and team scores scored by them on each match.\n",
    "+ Assign the p value to variable pval3 in the below cell (round the values to two decimal places)."
   ]
  },
  {
   "cell_type": "code",
   "execution_count": null,
   "metadata": {},
   "outputs": [],
   "source": [
    "\n",
    "\n",
    "\n",
    "\n",
    "\n",
    "###Assign the value here\n",
    "pval3=\n"
   ]
  },
  {
   "cell_type": "markdown",
   "metadata": {},
   "source": [
    "#### From the P value and significance level the teams(i.e CSK,KKR,MI) and team scores scored by them on each match are statistically different ?\n",
    "#### If your answer is yes assign boolean value True to variable *answer7* in the below cell False otherwise"
   ]
  },
  {
   "cell_type": "code",
   "execution_count": null,
   "metadata": {},
   "outputs": [],
   "source": [
    "answer7 = "
   ]
  },
  {
   "attachments": {},
   "cell_type": "markdown",
   "metadata": {},
   "source": [
    "### Task 8\n",
    "In IPL different teams created impact by their performances.From the given dataset-\n",
    "    \n",
    "+ Get individual team scores of overall matches from each match by innings.\n",
    "+ From the above data select only team scores of teams Chennai Super Kings,Kolkata Knight Riders and Mumbai Indians of overall matches from each match by innings.\n",
    "+ From the above data select only second innings from all the matches.\n",
    "+ Now,create a random sample of 100 data with seed value of 2.\n",
    "+ From the sample data set perform one way anova test on the above teams and team scores scored by them on each match.\n",
    "+ Assign the p value to variable pval4 in the below cell (round the values to two decimal places)."
   ]
  },
  {
   "cell_type": "code",
   "execution_count": null,
   "metadata": {},
   "outputs": [],
   "source": [
    "\n",
    "\n",
    "\n",
    "\n",
    "\n",
    "\n",
    "\n",
    "\n",
    "\n",
    "\n",
    "\n",
    "###Assign the value here\n",
    "pval4 =\n"
   ]
  },
  {
   "cell_type": "markdown",
   "metadata": {},
   "source": [
    "#### From the P value and significance level the teams(i.e CSK,KKR,MI) and team scores scored by them on each match are statistically different ?\n",
    "#### If your answer is yes assign boolean value True to variable *answer8* in the below cell False otherwise"
   ]
  },
  {
   "cell_type": "code",
   "execution_count": null,
   "metadata": {},
   "outputs": [],
   "source": [
    "answer8 = "
   ]
  },
  {
   "cell_type": "markdown",
   "metadata": {},
   "source": [
    "**Run the below cell to save your results**"
   ]
  },
  {
   "cell_type": "code",
   "execution_count": null,
   "metadata": {},
   "outputs": [],
   "source": [
    "with open(\"Raina.txt\" ,\"w\") as file:\n",
    "    file.write(str(p_val))\n",
    "    file.write(\"\\n\")\n",
    "    file.write(str(answer))\n",
    "    \n",
    "with open(\"Rohit.txt\" ,\"w\") as file:\n",
    "    file.write(str(pval1))\n",
    "    file.write(\"\\n\")\n",
    "    file.write(str(answer1))\n",
    "    \n",
    "with open(\"Kohli.txt\" ,\"w\") as file:\n",
    "    file.write(str(pval2))\n",
    "    file.write(\"\\n\")\n",
    "    file.write(str(answer2))\n",
    "    \n",
    "with open(\"First_Innings_Score.txt\" ,\"w\") as file:\n",
    "    file.write(str(confi_min))\n",
    "    file.write(\"\\n\")\n",
    "    file.write(str(confi_max))\n",
    "    \n",
    "with open(\"Toss_Winner.txt\" ,\"w\") as file:\n",
    "    file.write(str(p))\n",
    "    file.write(\"\\n\")\n",
    "    file.write(str(critical))\n",
    "    file.write(\"\\n\")\n",
    "    file.write(str(stat))\n",
    "    file.write(\"\\n\")\n",
    "    file.write(str(answer3))\n",
    "    file.write(\"\\n\")\n",
    "    file.write(str(answer4))\n",
    "    \n",
    "with open(\"Toss_Decision.txt\" ,\"w\") as file:    \n",
    "    file.write(str(p1))\n",
    "    file.write(\"\\n\")\n",
    "    file.write(str(critical1))\n",
    "    file.write(\"\\n\")\n",
    "    file.write(str(stat1))\n",
    "    file.write(\"\\n\")\n",
    "    file.write(str(answer5))\n",
    "    file.write(\"\\n\")\n",
    "    file.write(str(answer6))\n",
    "    \n",
    "with open(\"First_Innings.txt\" ,\"w\") as file:    \n",
    "    file.write(str(pval3))\n",
    "    file.write(\"\\n\")\n",
    "    file.write(str(answer7))\n",
    "    \n",
    "with open(\"Secon_Innings.txt\" ,\"w\") as file:    \n",
    "    file.write(str(pval4))\n",
    "    file.write(\"\\n\")\n",
    "    file.write(str(answer8))\n",
    "    \n",
    "    file.close()\n",
    "    "
   ]
  },
  {
   "cell_type": "code",
   "execution_count": null,
   "metadata": {},
   "outputs": [],
   "source": []
  }
 ],
 "metadata": {
  "kernelspec": {
   "display_name": "Python 3",
   "language": "python",
   "name": "python3"
  },
  "language_info": {
   "codemirror_mode": {
    "name": "ipython",
    "version": 3
   },
   "file_extension": ".py",
   "mimetype": "text/x-python",
   "name": "python",
   "nbconvert_exporter": "python",
   "pygments_lexer": "ipython3",
   "version": "3.10.0"
  },
  "vscode": {
   "interpreter": {
    "hash": "26de051ba29f2982a8de78e945f0abaf191376122a1563185a90213a26c5da77"
   }
  }
 },
 "nbformat": 4,
 "nbformat_minor": 4
}
